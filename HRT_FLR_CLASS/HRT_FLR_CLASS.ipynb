{
 "cells": [
  {
   "cell_type": "markdown",
   "id": "c08142ed",
   "metadata": {},
   "source": [
    "### Heart failure using classification model\n",
    "##### ive get csv with human data which can lead to some predictions about the risk of heart failure\n",
    "\n",
    "### LOADING AND PREPROCESSING THE DATA"
   ]
  },
  {
   "cell_type": "code",
   "execution_count": 11,
   "id": "065f955a-5176-47f9-8646-cecb2ddfe718",
   "metadata": {},
   "outputs": [
    {
     "data": {
      "application/vnd.microsoft.datawrangler.viewer.v0+json": {
       "columns": [
        {
         "name": "index",
         "rawType": "int64",
         "type": "integer"
        },
        {
         "name": "Age",
         "rawType": "int64",
         "type": "integer"
        },
        {
         "name": "Sex",
         "rawType": "object",
         "type": "string"
        },
        {
         "name": "ChestPainType",
         "rawType": "object",
         "type": "string"
        },
        {
         "name": "RestingBP",
         "rawType": "int64",
         "type": "integer"
        },
        {
         "name": "Cholesterol",
         "rawType": "int64",
         "type": "integer"
        },
        {
         "name": "FastingBS",
         "rawType": "int64",
         "type": "integer"
        },
        {
         "name": "RestingECG",
         "rawType": "object",
         "type": "string"
        },
        {
         "name": "MaxHR",
         "rawType": "int64",
         "type": "integer"
        },
        {
         "name": "ExerciseAngina",
         "rawType": "object",
         "type": "string"
        },
        {
         "name": "Oldpeak",
         "rawType": "float64",
         "type": "float"
        },
        {
         "name": "ST_Slope",
         "rawType": "object",
         "type": "string"
        },
        {
         "name": "HeartDisease",
         "rawType": "int64",
         "type": "integer"
        }
       ],
       "ref": "f2f0bbb8-6650-40e0-ad31-0f0d7bfc3f85",
       "rows": [
        [
         "0",
         "40",
         "M",
         "ATA",
         "140",
         "289",
         "0",
         "Normal",
         "172",
         "N",
         "0.0",
         "Up",
         "0"
        ],
        [
         "1",
         "49",
         "F",
         "NAP",
         "160",
         "180",
         "0",
         "Normal",
         "156",
         "N",
         "1.0",
         "Flat",
         "1"
        ],
        [
         "2",
         "37",
         "M",
         "ATA",
         "130",
         "283",
         "0",
         "ST",
         "98",
         "N",
         "0.0",
         "Up",
         "0"
        ],
        [
         "3",
         "48",
         "F",
         "ASY",
         "138",
         "214",
         "0",
         "Normal",
         "108",
         "Y",
         "1.5",
         "Flat",
         "1"
        ],
        [
         "4",
         "54",
         "M",
         "NAP",
         "150",
         "195",
         "0",
         "Normal",
         "122",
         "N",
         "0.0",
         "Up",
         "0"
        ]
       ],
       "shape": {
        "columns": 12,
        "rows": 5
       }
      },
      "text/html": [
       "<div>\n",
       "<style scoped>\n",
       "    .dataframe tbody tr th:only-of-type {\n",
       "        vertical-align: middle;\n",
       "    }\n",
       "\n",
       "    .dataframe tbody tr th {\n",
       "        vertical-align: top;\n",
       "    }\n",
       "\n",
       "    .dataframe thead th {\n",
       "        text-align: right;\n",
       "    }\n",
       "</style>\n",
       "<table border=\"1\" class=\"dataframe\">\n",
       "  <thead>\n",
       "    <tr style=\"text-align: right;\">\n",
       "      <th></th>\n",
       "      <th>Age</th>\n",
       "      <th>Sex</th>\n",
       "      <th>ChestPainType</th>\n",
       "      <th>RestingBP</th>\n",
       "      <th>Cholesterol</th>\n",
       "      <th>FastingBS</th>\n",
       "      <th>RestingECG</th>\n",
       "      <th>MaxHR</th>\n",
       "      <th>ExerciseAngina</th>\n",
       "      <th>Oldpeak</th>\n",
       "      <th>ST_Slope</th>\n",
       "      <th>HeartDisease</th>\n",
       "    </tr>\n",
       "  </thead>\n",
       "  <tbody>\n",
       "    <tr>\n",
       "      <th>0</th>\n",
       "      <td>40</td>\n",
       "      <td>M</td>\n",
       "      <td>ATA</td>\n",
       "      <td>140</td>\n",
       "      <td>289</td>\n",
       "      <td>0</td>\n",
       "      <td>Normal</td>\n",
       "      <td>172</td>\n",
       "      <td>N</td>\n",
       "      <td>0.0</td>\n",
       "      <td>Up</td>\n",
       "      <td>0</td>\n",
       "    </tr>\n",
       "    <tr>\n",
       "      <th>1</th>\n",
       "      <td>49</td>\n",
       "      <td>F</td>\n",
       "      <td>NAP</td>\n",
       "      <td>160</td>\n",
       "      <td>180</td>\n",
       "      <td>0</td>\n",
       "      <td>Normal</td>\n",
       "      <td>156</td>\n",
       "      <td>N</td>\n",
       "      <td>1.0</td>\n",
       "      <td>Flat</td>\n",
       "      <td>1</td>\n",
       "    </tr>\n",
       "    <tr>\n",
       "      <th>2</th>\n",
       "      <td>37</td>\n",
       "      <td>M</td>\n",
       "      <td>ATA</td>\n",
       "      <td>130</td>\n",
       "      <td>283</td>\n",
       "      <td>0</td>\n",
       "      <td>ST</td>\n",
       "      <td>98</td>\n",
       "      <td>N</td>\n",
       "      <td>0.0</td>\n",
       "      <td>Up</td>\n",
       "      <td>0</td>\n",
       "    </tr>\n",
       "    <tr>\n",
       "      <th>3</th>\n",
       "      <td>48</td>\n",
       "      <td>F</td>\n",
       "      <td>ASY</td>\n",
       "      <td>138</td>\n",
       "      <td>214</td>\n",
       "      <td>0</td>\n",
       "      <td>Normal</td>\n",
       "      <td>108</td>\n",
       "      <td>Y</td>\n",
       "      <td>1.5</td>\n",
       "      <td>Flat</td>\n",
       "      <td>1</td>\n",
       "    </tr>\n",
       "    <tr>\n",
       "      <th>4</th>\n",
       "      <td>54</td>\n",
       "      <td>M</td>\n",
       "      <td>NAP</td>\n",
       "      <td>150</td>\n",
       "      <td>195</td>\n",
       "      <td>0</td>\n",
       "      <td>Normal</td>\n",
       "      <td>122</td>\n",
       "      <td>N</td>\n",
       "      <td>0.0</td>\n",
       "      <td>Up</td>\n",
       "      <td>0</td>\n",
       "    </tr>\n",
       "  </tbody>\n",
       "</table>\n",
       "</div>"
      ],
      "text/plain": [
       "   Age Sex ChestPainType  RestingBP  Cholesterol  FastingBS RestingECG  MaxHR  \\\n",
       "0   40   M           ATA        140          289          0     Normal    172   \n",
       "1   49   F           NAP        160          180          0     Normal    156   \n",
       "2   37   M           ATA        130          283          0         ST     98   \n",
       "3   48   F           ASY        138          214          0     Normal    108   \n",
       "4   54   M           NAP        150          195          0     Normal    122   \n",
       "\n",
       "  ExerciseAngina  Oldpeak ST_Slope  HeartDisease  \n",
       "0              N      0.0       Up             0  \n",
       "1              N      1.0     Flat             1  \n",
       "2              N      0.0       Up             0  \n",
       "3              Y      1.5     Flat             1  \n",
       "4              N      0.0       Up             0  "
      ]
     },
     "execution_count": 11,
     "metadata": {},
     "output_type": "execute_result"
    }
   ],
   "source": [
    "import pandas as pd\n",
    "data = pd.read_csv(\"heart.csv\") \n",
    "data.head()"
   ]
  },
  {
   "cell_type": "code",
   "execution_count": 20,
   "id": "2684de0b",
   "metadata": {},
   "outputs": [
    {
     "name": "stdout",
     "output_type": "stream",
     "text": [
      "<class 'pandas.core.frame.DataFrame'>\n",
      "RangeIndex: 918 entries, 0 to 917\n",
      "Data columns (total 12 columns):\n",
      " #   Column          Non-Null Count  Dtype  \n",
      "---  ------          --------------  -----  \n",
      " 0   Age             918 non-null    int64  \n",
      " 1   Sex             918 non-null    object \n",
      " 2   ChestPainType   918 non-null    object \n",
      " 3   RestingBP       918 non-null    int64  \n",
      " 4   Cholesterol     918 non-null    int64  \n",
      " 5   FastingBS       918 non-null    int64  \n",
      " 6   RestingECG      918 non-null    object \n",
      " 7   MaxHR           918 non-null    int64  \n",
      " 8   ExerciseAngina  918 non-null    object \n",
      " 9   Oldpeak         918 non-null    float64\n",
      " 10  ST_Slope        918 non-null    object \n",
      " 11  HeartDisease    918 non-null    int64  \n",
      "dtypes: float64(1), int64(6), object(5)\n",
      "memory usage: 86.2+ KB\n",
      "Age                 int64\n",
      "Sex                object\n",
      "ChestPainType      object\n",
      "RestingBP           int64\n",
      "Cholesterol         int64\n",
      "FastingBS           int64\n",
      "RestingECG         object\n",
      "MaxHR               int64\n",
      "ExerciseAngina     object\n",
      "Oldpeak           float64\n",
      "ST_Slope           object\n",
      "HeartDisease        int64\n",
      "dtype: object None\n"
     ]
    }
   ],
   "source": [
    "\n",
    "print(data.dtypes, data.info())"
   ]
  },
  {
   "cell_type": "code",
   "execution_count": 23,
   "id": "edfb9691",
   "metadata": {},
   "outputs": [
    {
     "data": {
      "application/vnd.microsoft.datawrangler.viewer.v0+json": {
       "columns": [
        {
         "name": "index",
         "rawType": "object",
         "type": "string"
        },
        {
         "name": "0",
         "rawType": "int64",
         "type": "integer"
        }
       ],
       "ref": "7fa40391-59a8-4f12-85d7-7951304d7238",
       "rows": [
        [
         "Age",
         "0"
        ],
        [
         "Sex",
         "0"
        ],
        [
         "ChestPainType",
         "0"
        ],
        [
         "RestingBP",
         "0"
        ],
        [
         "Cholesterol",
         "0"
        ],
        [
         "FastingBS",
         "0"
        ],
        [
         "RestingECG",
         "0"
        ],
        [
         "MaxHR",
         "0"
        ],
        [
         "ExerciseAngina",
         "0"
        ],
        [
         "Oldpeak",
         "0"
        ],
        [
         "ST_Slope",
         "0"
        ],
        [
         "HeartDisease",
         "0"
        ]
       ],
       "shape": {
        "columns": 1,
        "rows": 12
       }
      },
      "text/plain": [
       "Age               0\n",
       "Sex               0\n",
       "ChestPainType     0\n",
       "RestingBP         0\n",
       "Cholesterol       0\n",
       "FastingBS         0\n",
       "RestingECG        0\n",
       "MaxHR             0\n",
       "ExerciseAngina    0\n",
       "Oldpeak           0\n",
       "ST_Slope          0\n",
       "HeartDisease      0\n",
       "dtype: int64"
      ]
     },
     "execution_count": 23,
     "metadata": {},
     "output_type": "execute_result"
    }
   ],
   "source": [
    "data.isnull().sum()"
   ]
  },
  {
   "cell_type": "code",
   "execution_count": 27,
   "id": "3b705b3a",
   "metadata": {},
   "outputs": [
    {
     "data": {
      "application/vnd.microsoft.datawrangler.viewer.v0+json": {
       "columns": [
        {
         "name": "index",
         "rawType": "object",
         "type": "string"
        },
        {
         "name": "0",
         "rawType": "object",
         "type": "unknown"
        }
       ],
       "ref": "2b9b4752-12d7-47ee-aab2-9beb53fc2c9c",
       "rows": [
        [
         "Age",
         "int64"
        ],
        [
         "Sex",
         "string"
        ],
        [
         "ChestPainType",
         "string"
        ],
        [
         "RestingBP",
         "int64"
        ],
        [
         "Cholesterol",
         "int64"
        ],
        [
         "FastingBS",
         "int64"
        ],
        [
         "RestingECG",
         "string"
        ],
        [
         "MaxHR",
         "int64"
        ],
        [
         "ExerciseAngina",
         "string"
        ],
        [
         "Oldpeak",
         "float64"
        ],
        [
         "ST_Slope",
         "string"
        ],
        [
         "HeartDisease",
         "int64"
        ]
       ],
       "shape": {
        "columns": 1,
        "rows": 12
       }
      },
      "text/plain": [
       "Age                        int64\n",
       "Sex               string[python]\n",
       "ChestPainType     string[python]\n",
       "RestingBP                  int64\n",
       "Cholesterol                int64\n",
       "FastingBS                  int64\n",
       "RestingECG        string[python]\n",
       "MaxHR                      int64\n",
       "ExerciseAngina    string[python]\n",
       "Oldpeak                  float64\n",
       "ST_Slope          string[python]\n",
       "HeartDisease               int64\n",
       "dtype: object"
      ]
     },
     "execution_count": 27,
     "metadata": {},
     "output_type": "execute_result"
    }
   ],
   "source": [
    "str_cols = data.select_dtypes(include=\"object\").columns\n",
    "data[str_cols] = data[str_cols].astype(\"string\")\n",
    "data.dtypes"
   ]
  },
  {
   "cell_type": "code",
   "execution_count": 56,
   "id": "4662d27c",
   "metadata": {},
   "outputs": [
    {
     "name": "stdout",
     "output_type": "stream",
     "text": [
      "    Age Sex ChestPainType  RestingBP  Cholesterol  FastingBS RestingECG  \\\n",
      "0    40   M           ATA        140          289          0     Normal   \n",
      "2    37   M           ATA        130          283          0         ST   \n",
      "5    39   M           NAP        120          339          0     Normal   \n",
      "8    37   M           ASY        140          207          0     Normal   \n",
      "12   39   M           ATA        120          204          0     Normal   \n",
      "\n",
      "    MaxHR ExerciseAngina  Oldpeak ST_Slope  HeartDisease  \n",
      "0     172              N      0.0       Up             0  \n",
      "2      98              N      0.0       Up             0  \n",
      "5     170              N      0.0       Up             0  \n",
      "8     130              Y      1.5     Flat             1  \n",
      "12    145              N      0.0       Up             0  \n"
     ]
    }
   ],
   "source": [
    "print(data[(data[\"Age\"] <= 40) & (data[\"Sex\"] == \"M\") & (data[\"MaxHR\"] <= 180)].head())"
   ]
  },
  {
   "cell_type": "markdown",
   "id": "38fb3477",
   "metadata": {},
   "source": [
    "#### Mean - the medium value of the sum of values\n",
    "#### Median - The value that is lower than 50% of values and higher then other 50%"
   ]
  },
  {
   "cell_type": "code",
   "execution_count": null,
   "id": "595cf973",
   "metadata": {},
   "outputs": [
    {
     "name": "stdout",
     "output_type": "stream",
     "text": [
      "54.0 53.510893246187365\n"
     ]
    }
   ],
   "source": [
    "import numpy as np\n",
    "\n",
    "print(np.median(data[\"Age\"]), np.mean(data[\"Age\"]))"
   ]
  },
  {
   "cell_type": "code",
   "execution_count": 110,
   "id": "546493ee",
   "metadata": {},
   "outputs": [
    {
     "data": {
      "image/png": "[encoded data removed]",
      "text/plain": [
       "<Figure size 640x480 with 1 Axes>"
      ]
     },
     "metadata": {},
     "output_type": "display_data"
    }
   ],
   "source": [
    "import matplotlib.pyplot as plt\n",
    "cpt = data[data[\"ChestPainType\"] == \"ATA\"]\n",
    "cpt[\"Age\"].hist()\n",
    "plt.show()\n"
   ]
  }
 ],
 "metadata": {
  "kernelspec": {
   "display_name": "Python 3 (ipykernel)",
   "language": "python",
   "name": "python3"
  },
  "language_info": {
   "codemirror_mode": {
    "name": "ipython",
    "version": 3
   },
   "file_extension": ".py",
   "mimetype": "text/x-python",
   "name": "python",
   "nbconvert_exporter": "python",
   "pygments_lexer": "ipython3",
   "version": "3.11.9"
  }
 },
 "nbformat": 4,
 "nbformat_minor": 5
}
